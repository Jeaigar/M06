{
 "cells": [
  {
   "cell_type": "code",
   "execution_count": 1,
   "id": "b8280158-0f1c-4826-9bca-6b7baf43b9ba",
   "metadata": {},
   "outputs": [],
   "source": [
    "import datetime\n",
    "\n",
    "# Get the current date and time\n",
    "current_datetime = datetime.datetime.now()\n",
    "\n",
    "# Format the date as a string\n",
    "formatted_date = current_datetime.strftime(\"%Y-%m-%d %H:%M:%S\")\n",
    "\n",
    "# Write the string to the file\n",
    "with open(\"today.txt\", mode=\"a\") as file:\n",
    "    file.write(f\"Printed string {formatted_date} recorded at {current_datetime}.\\\\n\")"
   ]
  },
  {
   "cell_type": "code",
   "execution_count": 2,
   "id": "69c12e65-cf14-4b89-8bfb-74799095d351",
   "metadata": {},
   "outputs": [
    {
     "name": "stdout",
     "output_type": "stream",
     "text": [
      "Printed string 2024-04-28 08:48:38 recorded at 2024-04-28 08:48:38.995386.\\n\n"
     ]
    }
   ],
   "source": [
    "# Read the contents of the file into a string\n",
    "with open(\"today.txt\", mode=\"r\") as file:\n",
    "    today_string = file.read()\n",
    "\n",
    "# Print the contents of the string\n",
    "print(today_string)"
   ]
  },
  {
   "cell_type": "code",
   "execution_count": 3,
   "id": "4914ac97-d60b-4b1f-a157-2517a5f8a933",
   "metadata": {},
   "outputs": [
    {
     "name": "stdout",
     "output_type": "stream",
     "text": [
      "Parsed date: 2024-04-28 08:45:47\n"
     ]
    }
   ],
   "source": [
    "import datetime\n",
    "\n",
    "# Assuming today_string contains the date in the format \"YYYY-MM-DD HH:MM:SS\"\n",
    "today_string = \"2024-04-28 08:45:47\"  # Replace with the actual content from the file\n",
    "\n",
    "# Parse the string into a datetime object\n",
    "parsed_date = datetime.datetime.strptime(today_string, \"%Y-%m-%d %H:%M:%S\")\n",
    "\n",
    "# Now you can work with the parsed_date as a datetime object\n",
    "print(\"Parsed date:\", parsed_date)"
   ]
  },
  {
   "cell_type": "code",
   "execution_count": 4,
   "id": "b38a4757-8f96-4d8e-b873-59f26178b487",
   "metadata": {},
   "outputs": [],
   "source": [
    "import multiprocessing\n",
    "import time\n",
    "import random\n",
    "import datetime\n",
    "\n",
    "def print_time():\n",
    "    wait_time = random.random()  # Generate a random wait time between 0 and 1\n",
    "    time.sleep(wait_time)  # Wait for the specified time\n",
    "    current_time = datetime.datetime.now()\n",
    "    print(f\"Current time: {current_time}\")\n",
    "\n",
    "if __name__ == \"__main__\":\n",
    "    process1 = multiprocessing.Process(target=print_time)\n",
    "    process2 = multiprocessing.Process(target=print_time)\n",
    "    process3 = multiprocessing.Process(target=print_time)\n",
    "\n",
    "    # Start the processes\n",
    "    process1.start()\n",
    "    process2.start()\n",
    "    process3.start()\n",
    "\n",
    "    # Wait for all processes to finish\n",
    "    process1.join()\n",
    "    process2.join()\n",
    "    process3.join()"
   ]
  }
 ],
 "metadata": {
  "kernelspec": {
   "display_name": "Python 3 (ipykernel)",
   "language": "python",
   "name": "python3"
  },
  "language_info": {
   "codemirror_mode": {
    "name": "ipython",
    "version": 3
   },
   "file_extension": ".py",
   "mimetype": "text/x-python",
   "name": "python",
   "nbconvert_exporter": "python",
   "pygments_lexer": "ipython3",
   "version": "3.11.7"
  }
 },
 "nbformat": 4,
 "nbformat_minor": 5
}
